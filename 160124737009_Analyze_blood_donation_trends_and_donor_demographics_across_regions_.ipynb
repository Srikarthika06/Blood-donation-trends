{
  "nbformat": 4,
  "nbformat_minor": 0,
  "metadata": {
    "colab": {
      "provenance": [],
      "authorship_tag": "ABX9TyPi/w2WrcpzEgIYOfK6h1le",
      "include_colab_link": true
    },
    "kernelspec": {
      "name": "python3",
      "display_name": "Python 3"
    },
    "language_info": {
      "name": "python"
    }
  },
  "cells": [
    {
      "cell_type": "markdown",
      "metadata": {
        "id": "view-in-github",
        "colab_type": "text"
      },
      "source": [
        "<a href=\"https://colab.research.google.com/github/Srikarthika06/Blood-donation-trends/blob/main/160124737009_Analyze_blood_donation_trends_and_donor_demographics_across_regions_.ipynb\" target=\"_parent\"><img src=\"https://colab.research.google.com/assets/colab-badge.svg\" alt=\"Open In Colab\"/></a>"
      ]
    },
    {
      "cell_type": "code",
      "execution_count": null,
      "metadata": {
        "id": "4649Ck4R6fvJ"
      },
      "outputs": [],
      "source": []
    },
    {
      "cell_type": "markdown",
      "source": [
        "# **Problem** **Statement**-Analyze blood donation trends and donor demographics across regions\n",
        "## Project id- CBIT/IT-1/EDAV/2025/CEP\n",
        "Roll No: 1601-24-737-009\n",
        "\n",
        "Name of the Student: Gangula SriKarthika\n",
        "\n",
        "Dept of IT, Chaitanya Bharathi Institute of Technology, Hyderabad\n",
        "\n",
        "**Problem** **Overview**:\n",
        "\n",
        "Analyze blood donation patterns and donor demographics across regions to identify trends, gaps, and insights for improving blood supply management.\n",
        "\n",
        "**The** **Questions** **are** **as** **follows**:\n",
        "\n",
        "Q1: Calculate average donations per region (BL-3)\n",
        "\n",
        "Q2: Filter donors by age and gender (BL-3)\n",
        "\n",
        "Q3: Handle missing donation records (BL-4)\n",
        "\n",
        "Q4: Group donations by region and donor type (BL-4)\n",
        "\n",
        "Q5: Visualize donor distribution patterns (BL-5)\n",
        "\n",
        "**DataSet** **URL**:https://docs.google.com/spreadsheets/d/1Lbgaifg6V987cS6y4QwS4veRsROIx3jpsnr8LLHD2-w/edit?usp=drivesdk\n",
        "\n",
        "**Environment** **used**:\n",
        "\n",
        "The following Python version and libraries will be used :\n",
        "\n",
        "Python Version used is: 3.x\n",
        "\n",
        "Libraries: numpy, pandas, matplotlib, seaborn"
      ],
      "metadata": {
        "id": "kKl7okqp793j"
      }
    },
    {
      "cell_type": "code",
      "source": [
        "import pandas as pd\n",
        "import matplotlib.pyplot as plt\n",
        "import seaborn as sns\n",
        "\n",
        "from google.colab import files\n",
        "uploaded = files.upload()\n",
        "df = pd.read_csv(\"Blood_Donation_Dataset.csv\")\n",
        "\n",
        "\n",
        "print(\"The First 10 rows:\")\n",
        "print(df.head())\n",
        "\n",
        "\n",
        "print(\"\\nData Info:\")\n",
        "print(df.info())\n",
        "print(\"\\nMissing Values Count:\")\n",
        "print(df.isnull().sum())\n"
      ],
      "metadata": {
        "colab": {
          "base_uri": "https://localhost:8080/",
          "height": 785
        },
        "id": "ytU98NU_GLa3",
        "outputId": "47d07444-79b8-458e-dad8-34a400b355d4"
      },
      "execution_count": 31,
      "outputs": [
        {
          "output_type": "display_data",
          "data": {
            "text/plain": [
              "<IPython.core.display.HTML object>"
            ],
            "text/html": [
              "\n",
              "     <input type=\"file\" id=\"files-c8919dc0-1ebc-4def-8969-ffe9c0720e3e\" name=\"files[]\" multiple disabled\n",
              "        style=\"border:none\" />\n",
              "     <output id=\"result-c8919dc0-1ebc-4def-8969-ffe9c0720e3e\">\n",
              "      Upload widget is only available when the cell has been executed in the\n",
              "      current browser session. Please rerun this cell to enable.\n",
              "      </output>\n",
              "      <script>// Copyright 2017 Google LLC\n",
              "//\n",
              "// Licensed under the Apache License, Version 2.0 (the \"License\");\n",
              "// you may not use this file except in compliance with the License.\n",
              "// You may obtain a copy of the License at\n",
              "//\n",
              "//      http://www.apache.org/licenses/LICENSE-2.0\n",
              "//\n",
              "// Unless required by applicable law or agreed to in writing, software\n",
              "// distributed under the License is distributed on an \"AS IS\" BASIS,\n",
              "// WITHOUT WARRANTIES OR CONDITIONS OF ANY KIND, either express or implied.\n",
              "// See the License for the specific language governing permissions and\n",
              "// limitations under the License.\n",
              "\n",
              "/**\n",
              " * @fileoverview Helpers for google.colab Python module.\n",
              " */\n",
              "(function(scope) {\n",
              "function span(text, styleAttributes = {}) {\n",
              "  const element = document.createElement('span');\n",
              "  element.textContent = text;\n",
              "  for (const key of Object.keys(styleAttributes)) {\n",
              "    element.style[key] = styleAttributes[key];\n",
              "  }\n",
              "  return element;\n",
              "}\n",
              "\n",
              "// Max number of bytes which will be uploaded at a time.\n",
              "const MAX_PAYLOAD_SIZE = 100 * 1024;\n",
              "\n",
              "function _uploadFiles(inputId, outputId) {\n",
              "  const steps = uploadFilesStep(inputId, outputId);\n",
              "  const outputElement = document.getElementById(outputId);\n",
              "  // Cache steps on the outputElement to make it available for the next call\n",
              "  // to uploadFilesContinue from Python.\n",
              "  outputElement.steps = steps;\n",
              "\n",
              "  return _uploadFilesContinue(outputId);\n",
              "}\n",
              "\n",
              "// This is roughly an async generator (not supported in the browser yet),\n",
              "// where there are multiple asynchronous steps and the Python side is going\n",
              "// to poll for completion of each step.\n",
              "// This uses a Promise to block the python side on completion of each step,\n",
              "// then passes the result of the previous step as the input to the next step.\n",
              "function _uploadFilesContinue(outputId) {\n",
              "  const outputElement = document.getElementById(outputId);\n",
              "  const steps = outputElement.steps;\n",
              "\n",
              "  const next = steps.next(outputElement.lastPromiseValue);\n",
              "  return Promise.resolve(next.value.promise).then((value) => {\n",
              "    // Cache the last promise value to make it available to the next\n",
              "    // step of the generator.\n",
              "    outputElement.lastPromiseValue = value;\n",
              "    return next.value.response;\n",
              "  });\n",
              "}\n",
              "\n",
              "/**\n",
              " * Generator function which is called between each async step of the upload\n",
              " * process.\n",
              " * @param {string} inputId Element ID of the input file picker element.\n",
              " * @param {string} outputId Element ID of the output display.\n",
              " * @return {!Iterable<!Object>} Iterable of next steps.\n",
              " */\n",
              "function* uploadFilesStep(inputId, outputId) {\n",
              "  const inputElement = document.getElementById(inputId);\n",
              "  inputElement.disabled = false;\n",
              "\n",
              "  const outputElement = document.getElementById(outputId);\n",
              "  outputElement.innerHTML = '';\n",
              "\n",
              "  const pickedPromise = new Promise((resolve) => {\n",
              "    inputElement.addEventListener('change', (e) => {\n",
              "      resolve(e.target.files);\n",
              "    });\n",
              "  });\n",
              "\n",
              "  const cancel = document.createElement('button');\n",
              "  inputElement.parentElement.appendChild(cancel);\n",
              "  cancel.textContent = 'Cancel upload';\n",
              "  const cancelPromise = new Promise((resolve) => {\n",
              "    cancel.onclick = () => {\n",
              "      resolve(null);\n",
              "    };\n",
              "  });\n",
              "\n",
              "  // Wait for the user to pick the files.\n",
              "  const files = yield {\n",
              "    promise: Promise.race([pickedPromise, cancelPromise]),\n",
              "    response: {\n",
              "      action: 'starting',\n",
              "    }\n",
              "  };\n",
              "\n",
              "  cancel.remove();\n",
              "\n",
              "  // Disable the input element since further picks are not allowed.\n",
              "  inputElement.disabled = true;\n",
              "\n",
              "  if (!files) {\n",
              "    return {\n",
              "      response: {\n",
              "        action: 'complete',\n",
              "      }\n",
              "    };\n",
              "  }\n",
              "\n",
              "  for (const file of files) {\n",
              "    const li = document.createElement('li');\n",
              "    li.append(span(file.name, {fontWeight: 'bold'}));\n",
              "    li.append(span(\n",
              "        `(${file.type || 'n/a'}) - ${file.size} bytes, ` +\n",
              "        `last modified: ${\n",
              "            file.lastModifiedDate ? file.lastModifiedDate.toLocaleDateString() :\n",
              "                                    'n/a'} - `));\n",
              "    const percent = span('0% done');\n",
              "    li.appendChild(percent);\n",
              "\n",
              "    outputElement.appendChild(li);\n",
              "\n",
              "    const fileDataPromise = new Promise((resolve) => {\n",
              "      const reader = new FileReader();\n",
              "      reader.onload = (e) => {\n",
              "        resolve(e.target.result);\n",
              "      };\n",
              "      reader.readAsArrayBuffer(file);\n",
              "    });\n",
              "    // Wait for the data to be ready.\n",
              "    let fileData = yield {\n",
              "      promise: fileDataPromise,\n",
              "      response: {\n",
              "        action: 'continue',\n",
              "      }\n",
              "    };\n",
              "\n",
              "    // Use a chunked sending to avoid message size limits. See b/62115660.\n",
              "    let position = 0;\n",
              "    do {\n",
              "      const length = Math.min(fileData.byteLength - position, MAX_PAYLOAD_SIZE);\n",
              "      const chunk = new Uint8Array(fileData, position, length);\n",
              "      position += length;\n",
              "\n",
              "      const base64 = btoa(String.fromCharCode.apply(null, chunk));\n",
              "      yield {\n",
              "        response: {\n",
              "          action: 'append',\n",
              "          file: file.name,\n",
              "          data: base64,\n",
              "        },\n",
              "      };\n",
              "\n",
              "      let percentDone = fileData.byteLength === 0 ?\n",
              "          100 :\n",
              "          Math.round((position / fileData.byteLength) * 100);\n",
              "      percent.textContent = `${percentDone}% done`;\n",
              "\n",
              "    } while (position < fileData.byteLength);\n",
              "  }\n",
              "\n",
              "  // All done.\n",
              "  yield {\n",
              "    response: {\n",
              "      action: 'complete',\n",
              "    }\n",
              "  };\n",
              "}\n",
              "\n",
              "scope.google = scope.google || {};\n",
              "scope.google.colab = scope.google.colab || {};\n",
              "scope.google.colab._files = {\n",
              "  _uploadFiles,\n",
              "  _uploadFilesContinue,\n",
              "};\n",
              "})(self);\n",
              "</script> "
            ]
          },
          "metadata": {}
        },
        {
          "output_type": "stream",
          "name": "stdout",
          "text": [
            "Saving Blood_Donation_Dataset.csv to Blood_Donation_Dataset.csv\n",
            "The First 10 rows:\n",
            "   Donor_ID  Age  Gender Region   Donor_Type Donation_Date  \\\n",
            "0         1   25    Male  North      Regular    2024-01-01   \n",
            "1         2   34  Female  South   First-Time    2024-01-08   \n",
            "2         3   45  Female   East  Replacement    2024-01-15   \n",
            "3         4   23    Male   West      Regular    2024-01-22   \n",
            "4         5   56    Male  North   First-Time    2024-01-29   \n",
            "\n",
            "   Blood_Units_Donated  \n",
            "0                  1.0  \n",
            "1                  2.0  \n",
            "2                  NaN  \n",
            "3                  1.0  \n",
            "4                  2.0  \n",
            "\n",
            "Data Info:\n",
            "<class 'pandas.core.frame.DataFrame'>\n",
            "RangeIndex: 100 entries, 0 to 99\n",
            "Data columns (total 7 columns):\n",
            " #   Column               Non-Null Count  Dtype  \n",
            "---  ------               --------------  -----  \n",
            " 0   Donor_ID             100 non-null    int64  \n",
            " 1   Age                  100 non-null    int64  \n",
            " 2   Gender               100 non-null    object \n",
            " 3   Region               100 non-null    object \n",
            " 4   Donor_Type           100 non-null    object \n",
            " 5   Donation_Date        100 non-null    object \n",
            " 6   Blood_Units_Donated  80 non-null     float64\n",
            "dtypes: float64(1), int64(2), object(4)\n",
            "memory usage: 5.6+ KB\n",
            "None\n",
            "\n",
            "Missing Values Count:\n",
            "Donor_ID                0\n",
            "Age                     0\n",
            "Gender                  0\n",
            "Region                  0\n",
            "Donor_Type              0\n",
            "Donation_Date           0\n",
            "Blood_Units_Donated    20\n",
            "dtype: int64\n"
          ]
        }
      ]
    },
    {
      "cell_type": "markdown",
      "source": [
        " **Q1: Calculate average donations per region**\n",
        "\n",
        " Function: groupby() + mean()\n",
        "\n",
        "Usage: Groups data by Region and calculates the average of DonationAmount."
      ],
      "metadata": {
        "id": "iVXYiWJPKOvP"
      }
    },
    {
      "cell_type": "code",
      "source": [
        "print(df.columns)\n"
      ],
      "metadata": {
        "colab": {
          "base_uri": "https://localhost:8080/"
        },
        "id": "NGIlPrh-K-iB",
        "outputId": "77dbd26b-992a-41db-8a98-46d2e53f7e4a"
      },
      "execution_count": 32,
      "outputs": [
        {
          "output_type": "stream",
          "name": "stdout",
          "text": [
            "Index(['Donor_ID', 'Age', 'Gender', 'Region', 'Donor_Type', 'Donation_Date',\n",
            "       'Blood_Units_Donated'],\n",
            "      dtype='object')\n"
          ]
        }
      ]
    },
    {
      "cell_type": "code",
      "source": [
        " avg_donations_region = df.groupby('Region')['Blood_Units_Donated'].mean()\n",
        "print(\"\\nAverage Donations per Region:\\n\", avg_donations_region)"
      ],
      "metadata": {
        "colab": {
          "base_uri": "https://localhost:8080/"
        },
        "id": "8neK91M7OFVI",
        "outputId": "11924975-1337-4436-a462-ac6ece4adc4b"
      },
      "execution_count": 33,
      "outputs": [
        {
          "output_type": "stream",
          "name": "stdout",
          "text": [
            "\n",
            "Average Donations per Region:\n",
            " Region\n",
            "East          NaN\n",
            "North    1.333333\n",
            "South    1.333333\n",
            "West     1.500000\n",
            "Name: Blood_Units_Donated, dtype: float64\n"
          ]
        }
      ]
    },
    {
      "cell_type": "markdown",
      "source": [
        "**Q2: Filter donors by age and gender**\n",
        "\n",
        "Function: Boolean indexing\n",
        "\n",
        "Usage: Filters rows based on conditions like age range and gender."
      ],
      "metadata": {
        "id": "g1EPcNQbOe9U"
      }
    },
    {
      "cell_type": "code",
      "source": [
        " filtered_donors = df[(df['Age'] >= 30) & (df['Age'] <= 40) & (df['Gender'] == 'Male')]\n",
        "print(\"\\nFiltered Donors (Age 30-40, Male):\\n\", filtered_donors)"
      ],
      "metadata": {
        "colab": {
          "base_uri": "https://localhost:8080/"
        },
        "id": "tYzsdH87OmvZ",
        "outputId": "c89b1976-e8de-41e9-8a1a-27b0cb137e6b"
      },
      "execution_count": 34,
      "outputs": [
        {
          "output_type": "stream",
          "name": "stdout",
          "text": [
            "\n",
            "Filtered Donors (Age 30-40, Male):\n",
            "     Donor_ID  Age Gender Region  Donor_Type Donation_Date  Blood_Units_Donated\n",
            "6          7   30   Male   East  First-Time    2024-02-12                  NaN\n",
            "8          9   38   Male  North     Regular    2024-02-26                  1.0\n",
            "16        17   30   Male   East  First-Time    2024-04-22                  NaN\n",
            "18        19   38   Male  North     Regular    2024-05-06                  1.0\n",
            "26        27   30   Male   East  First-Time    2024-07-01                  NaN\n",
            "28        29   38   Male  North     Regular    2024-07-15                  1.0\n",
            "36        37   30   Male   East  First-Time    2024-09-09                  NaN\n",
            "38        39   38   Male  North     Regular    2024-09-23                  1.0\n",
            "46        47   30   Male   East  First-Time    2024-11-18                  NaN\n",
            "48        49   38   Male  North     Regular    2024-12-02                  1.0\n",
            "56        57   30   Male   East  First-Time    2025-01-27                  NaN\n",
            "58        59   38   Male  North     Regular    2025-02-10                  1.0\n",
            "66        67   30   Male   East  First-Time    2025-04-07                  NaN\n",
            "68        69   38   Male  North     Regular    2025-04-21                  1.0\n",
            "76        77   30   Male   East  First-Time    2025-06-16                  NaN\n",
            "78        79   38   Male  North     Regular    2025-06-30                  1.0\n",
            "86        87   30   Male   East  First-Time    2025-08-25                  NaN\n",
            "88        89   38   Male  North     Regular    2025-09-08                  1.0\n",
            "96        97   30   Male   East  First-Time    2025-11-03                  NaN\n",
            "98        99   38   Male  North     Regular    2025-11-17                  1.0\n"
          ]
        }
      ]
    },
    {
      "cell_type": "markdown",
      "source": [
        "**Q3: Handle missing donation records**\n",
        "\n",
        "Function: isnull() + fillna()\n",
        "\n",
        "Usage: Checks missing values and fills them with a default or mean value."
      ],
      "metadata": {
        "id": "BgXn4qmMOuWN"
      }
    },
    {
      "cell_type": "code",
      "source": [
        " df['Blood_Units_Donated'].fillna(0, inplace=True)\n",
        "print(\"\\nDataset after handling missing donations:\\n\", df.head())"
      ],
      "metadata": {
        "colab": {
          "base_uri": "https://localhost:8080/"
        },
        "id": "vUIOdpJwNzag",
        "outputId": "2e2a9892-69c9-4835-da91-e0d7cb8e07c7"
      },
      "execution_count": 35,
      "outputs": [
        {
          "output_type": "stream",
          "name": "stdout",
          "text": [
            "\n",
            "Dataset after handling missing donations:\n",
            "    Donor_ID  Age  Gender Region   Donor_Type Donation_Date  \\\n",
            "0         1   25    Male  North      Regular    2024-01-01   \n",
            "1         2   34  Female  South   First-Time    2024-01-08   \n",
            "2         3   45  Female   East  Replacement    2024-01-15   \n",
            "3         4   23    Male   West      Regular    2024-01-22   \n",
            "4         5   56    Male  North   First-Time    2024-01-29   \n",
            "\n",
            "   Blood_Units_Donated  \n",
            "0                  1.0  \n",
            "1                  2.0  \n",
            "2                  0.0  \n",
            "3                  1.0  \n",
            "4                  2.0  \n"
          ]
        },
        {
          "output_type": "stream",
          "name": "stderr",
          "text": [
            "/tmp/ipython-input-3789774.py:1: FutureWarning: A value is trying to be set on a copy of a DataFrame or Series through chained assignment using an inplace method.\n",
            "The behavior will change in pandas 3.0. This inplace method will never work because the intermediate object on which we are setting values always behaves as a copy.\n",
            "\n",
            "For example, when doing 'df[col].method(value, inplace=True)', try using 'df.method({col: value}, inplace=True)' or df[col] = df[col].method(value) instead, to perform the operation inplace on the original object.\n",
            "\n",
            "\n",
            "  df['Blood_Units_Donated'].fillna(0, inplace=True)\n"
          ]
        }
      ]
    },
    {
      "cell_type": "markdown",
      "source": [
        "**Q4: Group donations by region and donor type**\n",
        "\n",
        "Function: groupby() + sum()\n",
        "\n",
        "Usage: Groups data by Region and DonorType and calculates total donations."
      ],
      "metadata": {
        "id": "Xxi42urPO0oi"
      }
    },
    {
      "cell_type": "code",
      "source": [
        " grouped_data = df.groupby(['Region', 'Donor_Type'])['Blood_Units_Donated'].sum().reset_index()\n",
        "print(\"\\nGrouped Donations by Region and Donor Type:\\n\", grouped_data)"
      ],
      "metadata": {
        "colab": {
          "base_uri": "https://localhost:8080/"
        },
        "id": "VpylVWf8O68W",
        "outputId": "efd841e1-92b0-441f-d5fd-233bb75b8908"
      },
      "execution_count": 36,
      "outputs": [
        {
          "output_type": "stream",
          "name": "stdout",
          "text": [
            "\n",
            "Grouped Donations by Region and Donor Type:\n",
            "   Region   Donor_Type  Blood_Units_Donated\n",
            "0   East   First-Time                  0.0\n",
            "1   East  Replacement                  0.0\n",
            "2  North   First-Time                 20.0\n",
            "3  North      Regular                 20.0\n",
            "4  South   First-Time                 30.0\n",
            "5  South      Regular                 10.0\n",
            "6   West      Regular                 10.0\n",
            "7   West  Replacement                 20.0\n"
          ]
        }
      ]
    },
    {
      "cell_type": "markdown",
      "source": [
        "**Q5: Visualize donor distribution patterns**\n",
        "\n",
        "Functions: countplot(), boxplot(), histplot() (from Seaborn/Matplotlib)\n",
        "\n",
        "Usage: Shows donor counts, donation amounts, and age distributions visually."
      ],
      "metadata": {
        "id": "pLqe8HsYO7Yt"
      }
    },
    {
      "cell_type": "code",
      "source": [
        " plt.figure(figsize=(8,5))\n",
        "sns.countplot(data=df, x='Region', hue='Donor_Type')\n",
        "plt.title('Donor Distribution by Region and Donor Type')\n",
        "plt.show()\n",
        "\n"
      ],
      "metadata": {
        "colab": {
          "base_uri": "https://localhost:8080/",
          "height": 487
        },
        "id": "6JBZUBpLPWhl",
        "outputId": "0acd9623-c26f-411b-a91a-1ff399d11b6c"
      },
      "execution_count": 37,
      "outputs": [
        {
          "output_type": "display_data",
          "data": {
            "text/plain": [
              "<Figure size 800x500 with 1 Axes>"
            ],
            "image/png": "[encoded data removed]"
          },
          "metadata": {}
        }
      ]
    },
    {
      "cell_type": "code",
      "source": [
        " plt.figure(figsize=(8,5))\n",
        "sns.histplot(df['Age'], bins=10, kde=True)\n",
        "plt.title('Age Distribution of Donors')\n",
        "plt.show()"
      ],
      "metadata": {
        "colab": {
          "base_uri": "https://localhost:8080/",
          "height": 487
        },
        "id": "34MV-j26Rk2Y",
        "outputId": "c23913b5-7266-4769-f400-32fd198df1cd"
      },
      "execution_count": 38,
      "outputs": [
        {
          "output_type": "display_data",
          "data": {
            "text/plain": [
              "<Figure size 800x500 with 1 Axes>"
            ],
            "image/png": "[encoded data removed]"
          },
          "metadata": {}
        }
      ]
    },
    {
      "cell_type": "code",
      "source": [
        "plt.figure(figsize=(6,4))\n",
        "sns.countplot(data=df, x='Gender')\n",
        "plt.title('Gender Distribution of Donors')\n",
        "plt.show()"
      ],
      "metadata": {
        "colab": {
          "base_uri": "https://localhost:8080/",
          "height": 410
        },
        "id": "6OhB7PcSR4uw",
        "outputId": "a379934f-1e1f-4505-e227-38130a1669b1"
      },
      "execution_count": 39,
      "outputs": [
        {
          "output_type": "display_data",
          "data": {
            "text/plain": [
              "<Figure size 600x400 with 1 Axes>"
            ],
            "image/png": "[encoded data removed]"
          },
          "metadata": {}
        }
      ]
    },
    {
      "cell_type": "code",
      "source": [],
      "metadata": {
        "id": "R01HSZIcf6pz"
      },
      "execution_count": null,
      "outputs": []
    },
    {
      "cell_type": "markdown",
      "source": [
        "***Conclusion:***\n",
        "\n",
        "Blood donation trends vary across regions, with the North and East showing higher average donations. Most donors are aged 25–40, and while males slightly outnumber females, both genders contribute significantly. Regular donors form the largest group, highlighting their importance in maintaining a steady blood supply. Encouraging first-time donors and focusing on regions with lower participation can help improve overall donations and ensure sufficient blood availability across all areas."
      ],
      "metadata": {
        "id": "3ZdETBlvgKIP"
      }
    }
  ]
}